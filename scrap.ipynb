{
 "cells": [
  {
   "cell_type": "code",
   "execution_count": 1,
   "id": "c3d87821-0ef7-43e0-be2e-65e0d1d697be",
   "metadata": {},
   "outputs": [],
   "source": [
    "import requests\n",
    "import pandas as pd"
   ]
  },
  {
   "cell_type": "code",
   "execution_count": 2,
   "id": "0b707bb0-fe23-4dc7-89b6-8242a07af36d",
   "metadata": {},
   "outputs": [],
   "source": [
    "API_KEY = \"e931905c4efca6ccd86fba9bd53646aa\""
   ]
  },
  {
   "cell_type": "code",
   "execution_count": 3,
   "id": "b934f6e8-098d-4392-b71b-ad02b6216704",
   "metadata": {},
   "outputs": [],
   "source": [
    "def fetch_movies(page=1):\n",
    "    base_url = \"https://api.themoviedb.org/3/discover/movie\"\n",
    "    params = {\n",
    "        \"api_key\": API_KEY,\n",
    "        \"language\": \"en-US\",\n",
    "        \"sort_by\": \"popularity.desc\",\n",
    "        \"page\": page,\n",
    "    }\n",
    "\n",
    "    response = requests.get(base_url, params=params)\n",
    "    if response.status_code == 200:\n",
    "        return response.json()\n",
    "    else:\n",
    "        print(f\"Error fetching movies: {response.status_code}\")\n",
    "        return None"
   ]
  },
  {
   "cell_type": "code",
   "execution_count": 4,
   "id": "98d495b6-8ba3-42cd-a828-a4f3f0174aa9",
   "metadata": {},
   "outputs": [],
   "source": [
    "def get_movie_details(movie_id):\n",
    "    base_url = f\"https://api.themoviedb.org/3/movie/{movie_id}\"\n",
    "    params = {\"api_key\": API_KEY, \"language\": \"en-US\"}\n",
    "    response = requests.get(base_url, params=params)\n",
    "    if response.status_code == 200:\n",
    "        return response.json()\n",
    "    else:\n",
    "        print(f\"Error fetching movie details for ID {movie_id}: {response.status_code}\")\n",
    "        return None"
   ]
  },
  {
   "cell_type": "code",
   "execution_count": 5,
   "id": "4757a65f-10f2-4b9a-82c6-6f94a7520c39",
   "metadata": {},
   "outputs": [],
   "source": [
    "def scrape_top_movies(limit=1000):\n",
    "    all_movies = []\n",
    "    page = 1\n",
    "\n",
    "    while len(all_movies) < limit:\n",
    "        print(f\"Fetching page {page} of movies...\")\n",
    "        data = fetch_movies(page=page)\n",
    "        if not data:\n",
    "            break\n",
    "\n",
    "        for rank, movie in enumerate(data.get(\"results\", []), start=1 + (page - 1) * 20):\n",
    "            if len(all_movies) >= limit:\n",
    "                break\n",
    "\n",
    "            movie_id = movie[\"id\"]\n",
    "            title = movie.get(\"title\", \"N/A\")\n",
    "            release_date = movie.get(\"release_date\", \"N/A\")\n",
    "            popularity = movie.get(\"popularity\", \"N/A\")\n",
    "\n",
    "            # Fetch detailed information for each movie\n",
    "            details = get_movie_details(movie_id)\n",
    "            budget = details.get(\"budget\", \"N/A\") if details else \"N/A\"\n",
    "            revenue = details.get(\"revenue\", \"N/A\") if details else \"N/A\"\n",
    "            genres = [genre[\"name\"] for genre in details.get(\"genres\", [])] if details else []\n",
    "            runtime = details.get(\"runtime\", \"N/A\") if details else \"N/A\"\n",
    "            homepage = details.get(\"homepage\", \"N/A\") if details else \"N/A\"\n",
    "\n",
    "            # Compile data\n",
    "            all_movies.append({\n",
    "                \"Rank\": rank,\n",
    "                \"Title\": title,\n",
    "                \"Release Date\": release_date,\n",
    "                \"URL\": homepage or f\"https://www.themoviedb.org/movie/{movie_id}\",\n",
    "                \"Production Cost\": budget,\n",
    "                \"Worldwide Gross\": revenue,\n",
    "                \"Genre\": \", \".join(genres),\n",
    "                \"Runtime\": runtime,\n",
    "                \"Year\": release_date.split(\"-\")[0] if release_date != \"N/A\" else \"N/A\",\n",
    "            })\n",
    "\n",
    "        page += 1\n",
    "\n",
    "    return all_movies"
   ]
  },
  {
   "cell_type": "code",
   "execution_count": 6,
   "id": "d8e047f7-ac37-4c58-85cd-4df95f5681a9",
   "metadata": {},
   "outputs": [],
   "source": [
    "def save_to_csv(data, filename):\n",
    "    df = pd.DataFrame(data)\n",
    "    df.to_csv(filename, index=False)\n",
    "    print(f\"Saved data to {filename}\")"
   ]
  },
  {
   "cell_type": "code",
   "execution_count": 7,
   "id": "cea15cee-407a-479e-85f5-04ca09cc558e",
   "metadata": {},
   "outputs": [
    {
     "name": "stdout",
     "output_type": "stream",
     "text": [
      "Scraping top 1000 movies from TMDb...\n",
      "Fetching page 1 of movies...\n",
      "Fetching page 2 of movies...\n",
      "Fetching page 3 of movies...\n",
      "Fetching page 4 of movies...\n",
      "Fetching page 5 of movies...\n",
      "Fetching page 6 of movies...\n",
      "Fetching page 7 of movies...\n",
      "Fetching page 8 of movies...\n",
      "Fetching page 9 of movies...\n",
      "Fetching page 10 of movies...\n",
      "Fetching page 11 of movies...\n",
      "Fetching page 12 of movies...\n",
      "Fetching page 13 of movies...\n",
      "Fetching page 14 of movies...\n",
      "Fetching page 15 of movies...\n",
      "Fetching page 16 of movies...\n",
      "Fetching page 17 of movies...\n",
      "Fetching page 18 of movies...\n",
      "Fetching page 19 of movies...\n",
      "Fetching page 20 of movies...\n",
      "Fetching page 21 of movies...\n",
      "Fetching page 22 of movies...\n",
      "Fetching page 23 of movies...\n",
      "Fetching page 24 of movies...\n",
      "Fetching page 25 of movies...\n",
      "Fetching page 26 of movies...\n",
      "Fetching page 27 of movies...\n",
      "Fetching page 28 of movies...\n",
      "Fetching page 29 of movies...\n",
      "Fetching page 30 of movies...\n",
      "Fetching page 31 of movies...\n",
      "Fetching page 32 of movies...\n",
      "Fetching page 33 of movies...\n",
      "Fetching page 34 of movies...\n",
      "Fetching page 35 of movies...\n",
      "Fetching page 36 of movies...\n",
      "Fetching page 37 of movies...\n",
      "Fetching page 38 of movies...\n",
      "Fetching page 39 of movies...\n",
      "Fetching page 40 of movies...\n",
      "Fetching page 41 of movies...\n",
      "Fetching page 42 of movies...\n",
      "Fetching page 43 of movies...\n",
      "Fetching page 44 of movies...\n",
      "Fetching page 45 of movies...\n",
      "Fetching page 46 of movies...\n",
      "Fetching page 47 of movies...\n",
      "Fetching page 48 of movies...\n",
      "Fetching page 49 of movies...\n",
      "Fetching page 50 of movies...\n",
      "Saved data to top-1000-movies.csv\n"
     ]
    }
   ],
   "source": [
    "if __name__ == \"__main__\":\n",
    "    print(\"Scraping top 1000 movies from TMDb...\")\n",
    "    top_movies = scrape_top_movies(limit=1000)\n",
    "    if top_movies:\n",
    "        save_to_csv(top_movies, 'top-1000-movies.csv')"
   ]
  }
 ],
 "metadata": {
  "kernelspec": {
   "display_name": "Python 3 (ipykernel)",
   "language": "python",
   "name": "python3"
  },
  "language_info": {
   "codemirror_mode": {
    "name": "ipython",
    "version": 3
   },
   "file_extension": ".py",
   "mimetype": "text/x-python",
   "name": "python",
   "nbconvert_exporter": "python",
   "pygments_lexer": "ipython3",
   "version": "3.11.7"
  }
 },
 "nbformat": 4,
 "nbformat_minor": 5
}
